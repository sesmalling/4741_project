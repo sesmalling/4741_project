{
 "metadata": {
  "language_info": {
   "codemirror_mode": {
    "name": "ipython",
    "version": 3
   },
   "file_extension": ".py",
   "mimetype": "text/x-python",
   "name": "python",
   "nbconvert_exporter": "python",
   "pygments_lexer": "ipython3",
   "version": "3.7.4-final"
  },
  "orig_nbformat": 2,
  "kernelspec": {
   "name": "python3",
   "display_name": "Python 3"
  }
 },
 "nbformat": 4,
 "nbformat_minor": 2,
 "cells": [
  {
   "source": [
    "import numpy as np\n",
    "import matplotlib.pyplot as plt\n",
    "from tqdm import tqdm, trange\n",
    "import pandas as pd\n",
    "from path import Path\n",
    "\n",
    "from typing import Dict, List\n",
    "\n",
    "from scipy.sparse import hstack\n",
    "\n",
    "from sklearn.model_selection import train_test_split\n",
    "from sklearn.linear_model import LogisticRegression\n",
    "from sklearn.feature_extraction.text import CountVectorizer\n",
    "from sklearn.feature_extraction import DictVectorizer\n",
    "from sklearn.model_selection import LeaveOneOut, KFold\n",
    "from sklearn.metrics import accuracy_score, f1_score, classification_report"
   ],
   "cell_type": "code",
   "metadata": {},
   "execution_count": 308,
   "outputs": []
  },
  {
   "cell_type": "code",
   "execution_count": 167,
   "metadata": {},
   "outputs": [],
   "source": [
    "%matplotlib inline"
   ]
  },
  {
   "cell_type": "code",
   "execution_count": 250,
   "metadata": {},
   "outputs": [],
   "source": [
    "data_directory = Path(\"data\")\n",
    "\n",
    "dset_path = \"clean_2017-2019.csv\"\n",
    "dset1_imputed_path = \"imputed_data_r1.csv\"\n",
    "dset2_imputed_path = \"imputed_data_r2.csv\"\n",
    "\n",
    "dset = pd.read_csv(data_directory / dset_path)"
   ]
  },
  {
   "cell_type": "code",
   "execution_count": 251,
   "metadata": {},
   "outputs": [
    {
     "output_type": "execute_result",
     "data": {
      "text/plain": [
       "   Unnamed: 0  Unnamed: 0.1  Unnamed: 0.1.1   age              country_live  \\\n",
       "0           0             0               0  27.0            United Kingdom   \n",
       "1           1             1               1  31.0            United Kingdom   \n",
       "2           2             2               2  36.0  United States of America   \n",
       "3           3             3               3  22.0  United States of America   \n",
       "4           4             4               4  52.0  United States of America   \n",
       "\n",
       "               country_work emp_mh_resources ever_diagnosed family_history  \\\n",
       "0            United Kingdom     I don't know            NaN             No   \n",
       "1            United Kingdom               No            NaN             No   \n",
       "2  United States of America               No            Yes            Yes   \n",
       "3  United States of America     I don't know            Yes   I don't know   \n",
       "4  United States of America              NaN            NaN            Yes   \n",
       "\n",
       "  gender  ...  primarily_tech primary_role_tech           race  \\\n",
       "0      F  ...            True               1.0            NaN   \n",
       "1      M  ...            True               1.0            NaN   \n",
       "2      M  ...            True               1.0          White   \n",
       "3      M  ...            True               1.0          White   \n",
       "4      F  ...             NaN               NaN  More than one   \n",
       "\n",
       "           reveal_to_clients self-employed share_with_f&f sought_treatment  \\\n",
       "0                        NaN             0              5                1   \n",
       "1                        NaN             0              4                0   \n",
       "2                        NaN             0              5                1   \n",
       "3                        NaN             0             10                1   \n",
       "4  Sometimes, if it comes up             1             10                1   \n",
       "\n",
       "   state_live  state_work    year  \n",
       "0         NaN         NaN  2017.0  \n",
       "1         NaN         NaN  2017.0  \n",
       "2    Missouri    Missouri  2017.0  \n",
       "3  Washington  Washington  2017.0  \n",
       "4    Illinois    Illinois  2017.0  \n",
       "\n",
       "[5 rows x 32 columns]"
      ],
      "text/html": "<div>\n<style scoped>\n    .dataframe tbody tr th:only-of-type {\n        vertical-align: middle;\n    }\n\n    .dataframe tbody tr th {\n        vertical-align: top;\n    }\n\n    .dataframe thead th {\n        text-align: right;\n    }\n</style>\n<table border=\"1\" class=\"dataframe\">\n  <thead>\n    <tr style=\"text-align: right;\">\n      <th></th>\n      <th>Unnamed: 0</th>\n      <th>Unnamed: 0.1</th>\n      <th>Unnamed: 0.1.1</th>\n      <th>age</th>\n      <th>country_live</th>\n      <th>country_work</th>\n      <th>emp_mh_resources</th>\n      <th>ever_diagnosed</th>\n      <th>family_history</th>\n      <th>gender</th>\n      <th>...</th>\n      <th>primarily_tech</th>\n      <th>primary_role_tech</th>\n      <th>race</th>\n      <th>reveal_to_clients</th>\n      <th>self-employed</th>\n      <th>share_with_f&amp;f</th>\n      <th>sought_treatment</th>\n      <th>state_live</th>\n      <th>state_work</th>\n      <th>year</th>\n    </tr>\n  </thead>\n  <tbody>\n    <tr>\n      <td>0</td>\n      <td>0</td>\n      <td>0</td>\n      <td>0</td>\n      <td>27.0</td>\n      <td>United Kingdom</td>\n      <td>United Kingdom</td>\n      <td>I don't know</td>\n      <td>NaN</td>\n      <td>No</td>\n      <td>F</td>\n      <td>...</td>\n      <td>True</td>\n      <td>1.0</td>\n      <td>NaN</td>\n      <td>NaN</td>\n      <td>0</td>\n      <td>5</td>\n      <td>1</td>\n      <td>NaN</td>\n      <td>NaN</td>\n      <td>2017.0</td>\n    </tr>\n    <tr>\n      <td>1</td>\n      <td>1</td>\n      <td>1</td>\n      <td>1</td>\n      <td>31.0</td>\n      <td>United Kingdom</td>\n      <td>United Kingdom</td>\n      <td>No</td>\n      <td>NaN</td>\n      <td>No</td>\n      <td>M</td>\n      <td>...</td>\n      <td>True</td>\n      <td>1.0</td>\n      <td>NaN</td>\n      <td>NaN</td>\n      <td>0</td>\n      <td>4</td>\n      <td>0</td>\n      <td>NaN</td>\n      <td>NaN</td>\n      <td>2017.0</td>\n    </tr>\n    <tr>\n      <td>2</td>\n      <td>2</td>\n      <td>2</td>\n      <td>2</td>\n      <td>36.0</td>\n      <td>United States of America</td>\n      <td>United States of America</td>\n      <td>No</td>\n      <td>Yes</td>\n      <td>Yes</td>\n      <td>M</td>\n      <td>...</td>\n      <td>True</td>\n      <td>1.0</td>\n      <td>White</td>\n      <td>NaN</td>\n      <td>0</td>\n      <td>5</td>\n      <td>1</td>\n      <td>Missouri</td>\n      <td>Missouri</td>\n      <td>2017.0</td>\n    </tr>\n    <tr>\n      <td>3</td>\n      <td>3</td>\n      <td>3</td>\n      <td>3</td>\n      <td>22.0</td>\n      <td>United States of America</td>\n      <td>United States of America</td>\n      <td>I don't know</td>\n      <td>Yes</td>\n      <td>I don't know</td>\n      <td>M</td>\n      <td>...</td>\n      <td>True</td>\n      <td>1.0</td>\n      <td>White</td>\n      <td>NaN</td>\n      <td>0</td>\n      <td>10</td>\n      <td>1</td>\n      <td>Washington</td>\n      <td>Washington</td>\n      <td>2017.0</td>\n    </tr>\n    <tr>\n      <td>4</td>\n      <td>4</td>\n      <td>4</td>\n      <td>4</td>\n      <td>52.0</td>\n      <td>United States of America</td>\n      <td>United States of America</td>\n      <td>NaN</td>\n      <td>NaN</td>\n      <td>Yes</td>\n      <td>F</td>\n      <td>...</td>\n      <td>NaN</td>\n      <td>NaN</td>\n      <td>More than one</td>\n      <td>Sometimes, if it comes up</td>\n      <td>1</td>\n      <td>10</td>\n      <td>1</td>\n      <td>Illinois</td>\n      <td>Illinois</td>\n      <td>2017.0</td>\n    </tr>\n  </tbody>\n</table>\n<p>5 rows × 32 columns</p>\n</div>"
     },
     "metadata": {},
     "execution_count": 251
    }
   ],
   "source": [
    "dset.head()"
   ]
  },
  {
   "cell_type": "code",
   "execution_count": 254,
   "metadata": {},
   "outputs": [
    {
     "output_type": "execute_result",
     "data": {
      "text/plain": [
       "sought_treatment\n",
       "0    589\n",
       "1    936\n",
       "Name: sought_treatment, dtype: int64"
      ]
     },
     "metadata": {},
     "execution_count": 254
    }
   ],
   "source": [
    "# Finding out how many seek treatment\n",
    "dset.groupby('sought_treatment')['sought_treatment'].count()\n",
    "# dset.groupby('ever_diagnosed')['ever_diagnosed'].count()"
   ]
  },
  {
   "cell_type": "code",
   "execution_count": 263,
   "metadata": {},
   "outputs": [],
   "source": [
    "dset = dset[pd.notna(dset['gender'])]\n",
    "dset = dset[pd.notna(dset['race'])]"
   ]
  },
  {
   "cell_type": "code",
   "execution_count": 300,
   "metadata": {},
   "outputs": [],
   "source": [
    "def feature_dict_of_entry(entry) -> Dict:\n",
    "    # DictVectorizer automatically turns strings into one-hot encodings (so we do not have to do so for categorical variables like country).\n",
    "    entry = entry[1]\n",
    "    return {\n",
    "        \"age\" : entry['age'],\n",
    "        \"country\" : entry[\"country_live\"],\n",
    "        \"gender\" : entry[\"gender\"], \n",
    "    }\n",
    "\n",
    "X = list(map(feature_dict_of_entry, dset.iterrows()))\n",
    "y = [entry[1]['sought_treatment'] for entry in dset.iterrows()]"
   ]
  },
  {
   "cell_type": "code",
   "execution_count": 301,
   "metadata": {},
   "outputs": [],
   "source": [
    "TRAIN_PROPORTION = 0.8\n",
    "X_train, X_test, y_train, y_test = train_test_split(X, y, train_size=TRAIN_PROPORTION, random_state=42)"
   ]
  },
  {
   "cell_type": "code",
   "execution_count": 302,
   "metadata": {
    "tags": []
   },
   "outputs": [],
   "source": [
    "dv = DictVectorizer()\n",
    "train_feature_set = dv.fit_transform(X_train)\n",
    "test_feature_set = dv.transform(X_test)"
   ]
  },
  {
   "cell_type": "code",
   "execution_count": 303,
   "metadata": {},
   "outputs": [
    {
     "output_type": "execute_result",
     "data": {
      "text/plain": [
       "LogisticRegression(C=1.0, class_weight=None, dual=False, fit_intercept=True,\n",
       "                   intercept_scaling=1, l1_ratio=None, max_iter=1000,\n",
       "                   multi_class='warn', n_jobs=None, penalty='l2',\n",
       "                   random_state=42, solver='liblinear', tol=0.0001, verbose=0,\n",
       "                   warm_start=False)"
      ]
     },
     "metadata": {},
     "execution_count": 303
    }
   ],
   "source": [
    "lr = LogisticRegression(solver='liblinear', random_state=42, max_iter=1000)\n",
    "lr.fit(train_feature_set, y_train)"
   ]
  },
  {
   "cell_type": "code",
   "execution_count": 304,
   "metadata": {},
   "outputs": [],
   "source": [
    "test_pred_y = lr.predict(test_feature_set)"
   ]
  },
  {
   "cell_type": "code",
   "execution_count": 305,
   "metadata": {},
   "outputs": [
    {
     "output_type": "stream",
     "name": "stdout",
     "text": [
      "Accuracy score: 0.726\nF1 score: 0.841\n\n                        precision    recall  f1-score   support\n\nDid not Seek Treatment       0.00      0.00      0.00        52\n      Sought Treatment       0.73      1.00      0.84       138\n\n              accuracy                           0.73       190\n             macro avg       0.36      0.50      0.42       190\n          weighted avg       0.53      0.73      0.61       190\n\n"
     ]
    }
   ],
   "source": [
    "accuracy = accuracy_score(y_test, test_pred_y)\n",
    "f1 = f1_score(y_test, test_pred_y)\n",
    "\n",
    "print(f\"Accuracy score: {round(accuracy, 3)}\")\n",
    "print(f\"F1 score: {round(f1, 3)}\\n\")\n",
    "\n",
    "target_names = [\"Did not Seek Treatment\", \"Sought Treatment\"]\n",
    "report = classification_report(y_test, test_pred_y, target_names=target_names)\n",
    "print(report)"
   ]
  },
  {
   "cell_type": "code",
   "execution_count": 274,
   "metadata": {},
   "outputs": [],
   "source": [
    "def feature_dict_of_entry2(entry) -> Dict:\n",
    "    # DictVectorizer automatically turns strings into one-hot encodings (so we do not have to do so for categorical variables like country).\n",
    "    entry = entry[1]\n",
    "    return {\n",
    "        \"age\" : entry['age'],\n",
    "        \"country\" : entry[\"country_live\"],\n",
    "        \"gender\" : entry[\"gender\"], \n",
    "        \"race\" : entry[\"race\"],\n",
    "        \"family_history\" : entry[\"family_history\"]\n",
    "    }\n",
    "\n",
    "X = list(map(feature_dict_of_entry2, dset.iterrows()))\n",
    "y = [entry[1]['sought_treatment'] for entry in dset.iterrows()]"
   ]
  },
  {
   "cell_type": "code",
   "execution_count": 275,
   "metadata": {},
   "outputs": [],
   "source": [
    "TRAIN_PROPORTION = 0.8\n",
    "X_train, X_test, y_train, y_test = train_test_split(X, y, train_size=TRAIN_PROPORTION, random_state=42)"
   ]
  },
  {
   "cell_type": "code",
   "execution_count": 276,
   "metadata": {},
   "outputs": [],
   "source": [
    "dv = DictVectorizer()\n",
    "train_feature_set = dv.fit_transform(X_train)\n",
    "test_feature_set = dv.transform(X_test)"
   ]
  },
  {
   "cell_type": "code",
   "execution_count": 277,
   "metadata": {},
   "outputs": [],
   "source": [
    "lr = LogisticRegression(solver='liblinear', random_state=42, max_iter=1000)\n",
    "lr.fit(train_feature_set, y_train)\n",
    "test_pred_y = lr.predict(test_feature_set)"
   ]
  },
  {
   "cell_type": "code",
   "execution_count": 278,
   "metadata": {},
   "outputs": [
    {
     "output_type": "stream",
     "name": "stdout",
     "text": [
      "Accuracy score: 0.695\nF1 score: 0.799\n\n                        precision    recall  f1-score   support\n\nDid not Seek Treatment       0.42      0.33      0.37        52\n      Sought Treatment       0.77      0.83      0.80       138\n\n              accuracy                           0.69       190\n             macro avg       0.60      0.58      0.58       190\n          weighted avg       0.67      0.69      0.68       190\n\n"
     ]
    }
   ],
   "source": [
    "accuracy = accuracy_score(y_test, test_pred_y)\n",
    "f1 = f1_score(y_test, test_pred_y)\n",
    "\n",
    "print(f\"Accuracy score: {round(accuracy, 3)}\")\n",
    "print(f\"F1 score: {round(f1, 3)}\\n\")\n",
    "\n",
    "target_names = [\"Did not Seek Treatment\", \"Sought Treatment\"]\n",
    "report = classification_report(y_test, test_pred_y, target_names=target_names)\n",
    "print(report)"
   ]
  },
  {
   "cell_type": "code",
   "execution_count": 292,
   "metadata": {},
   "outputs": [
    {
     "output_type": "stream",
     "name": "stdout",
     "text": [
      "Accuracy score: 0.732\nF1 score: 0.819\n\n                        precision    recall  f1-score   support\n\nDid not Seek Treatment       0.51      0.46      0.48        52\n      Sought Treatment       0.80      0.83      0.82       138\n\n              accuracy                           0.73       190\n             macro avg       0.66      0.65      0.65       190\n          weighted avg       0.72      0.73      0.73       190\n\n"
     ]
    }
   ],
   "source": [
    "def feature_dict_of_entry3(entry) -> Dict:\n",
    "    # DictVectorizer automatically turns strings into one-hot encodings (so we do not have to do so for categorical variables like country).\n",
    "    return {\n",
    "        \"age\" : entry['age'],\n",
    "        \"country\" : entry[\"country_live\"],\n",
    "        \"gender\" : entry[\"gender\"], \n",
    "        \"race\" : entry[\"race\"],\n",
    "        \"family_history\" : entry[\"family_history\"]# ,\n",
    "        # \"share_with_friends_and_family\" : entry[\"share_with_f&f\"]\n",
    "        # \"primarily_tech\" : entry[\"primarily_tech\"] if isinstance(entry[\"primarily_tech\"], str) else \"\" \n",
    "    }\n",
    "\n",
    "def get_why_bring_up(entry):\n",
    "    result = entry['interview_why'] \n",
    "    result = result if isinstance(result, str) else \"\"\n",
    "    return result\n",
    "\n",
    "X = [(feature_dict_of_entry3(entry), get_why_bring_up(entry)) for idx, entry in dset.iterrows()]\n",
    "y = [entry[1]['sought_treatment'] for entry in dset.iterrows()]\n",
    "\n",
    "TRAIN_PROPORTION = 0.8\n",
    "X_train, X_test, y_train, y_test = train_test_split(X, y, train_size=TRAIN_PROPORTION, random_state=42)\n",
    "X_train_dict, X_train_text = zip(*X_train)\n",
    "X_test_dict, X_test_text = zip(*X_test)\n",
    "\n",
    "dv = DictVectorizer()\n",
    "train_feature_set_dict = dv.fit_transform(X_train_dict)\n",
    "test_feature_set_dict = dv.transform(X_test_dict)\n",
    "\n",
    "cv = CountVectorizer(binary=True, min_df=0, max_df=0.98)\n",
    "train_array_text = cv.fit_transform(X_train_text)\n",
    "test_array_text = cv.transform(X_test_text)\n",
    "\n",
    "train_feature_set = hstack((train_feature_set_dict, train_array_text))\n",
    "test_feature_set = hstack((test_feature_set_dict, test_array_text))\n",
    "\n",
    "lr = LogisticRegression(solver='liblinear', random_state=42, max_iter=1000)\n",
    "lr.fit(train_feature_set, y_train)\n",
    "test_pred_y = lr.predict(test_feature_set)\n",
    "\n",
    "accuracy = accuracy_score(y_test, test_pred_y)\n",
    "f1 = f1_score(y_test, test_pred_y)\n",
    "\n",
    "print(f\"Accuracy score: {round(accuracy, 3)}\")\n",
    "print(f\"F1 score: {round(f1, 3)}\\n\")\n",
    "\n",
    "target_names = [\"Did not Seek Treatment\", \"Sought Treatment\"]\n",
    "report = classification_report(y_test, test_pred_y, target_names=target_names)\n",
    "print(report)\n",
    "\n",
    "# Adding why interview brought up the accuracy score by a few points to 0.732\n",
    "# Adding \"Share with friends and family\" brough up accuracy to 0.742\n",
    "# adding \"Primarily tech did not help\"\n",
    "\n",
    "# Surprisingly, adding \"self-employed\" lowered the accuracy score to 0.737 and f1 score to 0.82\n",
    "# from the previous baseline of 0.742 accuracy and 0.824 recall. \n",
    "\n",
    "# Adding state increases accuracy score from 0.742 and f1 as 0.824 to 0.763 accuracy and 0.839 f1. "
   ]
  },
  {
   "cell_type": "code",
   "execution_count": 306,
   "metadata": {},
   "outputs": [
    {
     "output_type": "stream",
     "name": "stdout",
     "text": [
      "Mean Accuracy score: 0.691\nMean F1 score: 0.691\n\nMax Accuracy score: 1.0\nMax F1 score: 1.0\n\n"
     ]
    }
   ],
   "source": [
    "# Try Leave-one-out Cross Validation on simplest dictionary to test and see if that makes a difference. \n",
    "# Simpler dict - better training time. \n",
    "\n",
    "X = list(map(feature_dict_of_entry, dset.iterrows()))\n",
    "y = [entry[1]['sought_treatment'] for entry in dset.iterrows()]\n",
    "\n",
    "def extract_elements(lst, indices_lst):\n",
    "    return [lst[i] for i in indices_lst]\n",
    "\n",
    "accuracy_array = []\n",
    "f1_array = []\n",
    "\n",
    "loo = LeaveOneOut()\n",
    "for train_index, test_index in loo.split(X):\n",
    "    X_train, X_test = extract_elements(X, train_index), extract_elements(X, test_index)\n",
    "    y_train, y_test = extract_elements(y, train_index), extract_elements(y, test_index)\n",
    "    dv = DictVectorizer()\n",
    "    train_feature_set = dv.fit_transform(X_train)\n",
    "    test_feature_set = dv.transform(X_test)\n",
    "    lr = LogisticRegression(solver='liblinear', random_state=42, max_iter=1000)\n",
    "    lr.fit(train_feature_set, y_train)\n",
    "    test_pred_y = lr.predict(test_feature_set)\n",
    "    accuracy = accuracy_score(y_test, test_pred_y)\n",
    "    f1 = f1_score(y_test, test_pred_y)\n",
    "    accuracy_array.append(accuracy)\n",
    "    f1_array.append(f1)\n",
    "\n",
    "\n",
    "print(f\"Mean Accuracy score: {round(np.mean(accuracy_array), 3)}\")\n",
    "print(f\"Mean F1 score: {round(np.mean(f1_array), 3)}\\n\")\n",
    "print(f\"Max Accuracy score: {round(np.max(accuracy_array), 3)}\")\n",
    "print(f\"Max F1 score: {round(np.max(f1_array), 3)}\\n\")"
   ]
  },
  {
   "cell_type": "code",
   "execution_count": 307,
   "metadata": {},
   "outputs": [
    {
     "output_type": "display_data",
     "data": {
      "text/plain": "<Figure size 432x288 with 1 Axes>",
      "image/svg+xml": "<?xml version=\"1.0\" encoding=\"utf-8\" standalone=\"no\"?>\n<!DOCTYPE svg PUBLIC \"-//W3C//DTD SVG 1.1//EN\"\n  \"http://www.w3.org/Graphics/SVG/1.1/DTD/svg11.dtd\">\n<!-- Created with matplotlib (https://matplotlib.org/) -->\n<svg height=\"248.518125pt\" version=\"1.1\" viewBox=\"0 0 375.2875 248.518125\" width=\"375.2875pt\" xmlns=\"http://www.w3.org/2000/svg\" xmlns:xlink=\"http://www.w3.org/1999/xlink\">\n <defs>\n  <style type=\"text/css\">\n*{stroke-linecap:butt;stroke-linejoin:round;}\n  </style>\n </defs>\n <g id=\"figure_1\">\n  <g id=\"patch_1\">\n   <path d=\"M 0 248.518125 \nL 375.2875 248.518125 \nL 375.2875 0 \nL 0 0 \nz\n\" style=\"fill:none;\"/>\n  </g>\n  <g id=\"axes_1\">\n   <g id=\"patch_2\">\n    <path d=\"M 33.2875 224.64 \nL 368.0875 224.64 \nL 368.0875 7.2 \nL 33.2875 7.2 \nz\n\" style=\"fill:#ffffff;\"/>\n   </g>\n   <g id=\"patch_3\">\n    <path clip-path=\"url(#p0e163bdedd)\" d=\"M 48.505682 224.64 \nL 78.942045 224.64 \nL 78.942045 131.863067 \nL 48.505682 131.863067 \nz\n\" style=\"fill:#1f77b4;\"/>\n   </g>\n   <g id=\"patch_4\">\n    <path clip-path=\"url(#p0e163bdedd)\" d=\"M 78.942045 224.64 \nL 109.378409 224.64 \nL 109.378409 224.64 \nL 78.942045 224.64 \nz\n\" style=\"fill:#1f77b4;\"/>\n   </g>\n   <g id=\"patch_5\">\n    <path clip-path=\"url(#p0e163bdedd)\" d=\"M 109.378409 224.64 \nL 139.814773 224.64 \nL 139.814773 224.64 \nL 109.378409 224.64 \nz\n\" style=\"fill:#1f77b4;\"/>\n   </g>\n   <g id=\"patch_6\">\n    <path clip-path=\"url(#p0e163bdedd)\" d=\"M 139.814773 224.64 \nL 170.251136 224.64 \nL 170.251136 224.64 \nL 139.814773 224.64 \nz\n\" style=\"fill:#1f77b4;\"/>\n   </g>\n   <g id=\"patch_7\">\n    <path clip-path=\"url(#p0e163bdedd)\" d=\"M 170.251136 224.64 \nL 200.6875 224.64 \nL 200.6875 224.64 \nL 170.251136 224.64 \nz\n\" style=\"fill:#1f77b4;\"/>\n   </g>\n   <g id=\"patch_8\">\n    <path clip-path=\"url(#p0e163bdedd)\" d=\"M 200.6875 224.64 \nL 231.123864 224.64 \nL 231.123864 224.64 \nL 200.6875 224.64 \nz\n\" style=\"fill:#1f77b4;\"/>\n   </g>\n   <g id=\"patch_9\">\n    <path clip-path=\"url(#p0e163bdedd)\" d=\"M 231.123864 224.64 \nL 261.560227 224.64 \nL 261.560227 224.64 \nL 231.123864 224.64 \nz\n\" style=\"fill:#1f77b4;\"/>\n   </g>\n   <g id=\"patch_10\">\n    <path clip-path=\"url(#p0e163bdedd)\" d=\"M 261.560227 224.64 \nL 291.996591 224.64 \nL 291.996591 224.64 \nL 261.560227 224.64 \nz\n\" style=\"fill:#1f77b4;\"/>\n   </g>\n   <g id=\"patch_11\">\n    <path clip-path=\"url(#p0e163bdedd)\" d=\"M 291.996591 224.64 \nL 322.432955 224.64 \nL 322.432955 224.64 \nL 291.996591 224.64 \nz\n\" style=\"fill:#1f77b4;\"/>\n   </g>\n   <g id=\"patch_12\">\n    <path clip-path=\"url(#p0e163bdedd)\" d=\"M 322.432955 224.64 \nL 352.869318 224.64 \nL 352.869318 17.554286 \nL 322.432955 17.554286 \nz\n\" style=\"fill:#1f77b4;\"/>\n   </g>\n   <g id=\"matplotlib.axis_1\">\n    <g id=\"xtick_1\">\n     <g id=\"line2d_1\">\n      <defs>\n       <path d=\"M 0 0 \nL 0 3.5 \n\" id=\"m7334740044\" style=\"stroke:#000000;stroke-width:0.8;\"/>\n      </defs>\n      <g>\n       <use style=\"stroke:#000000;stroke-width:0.8;\" x=\"48.505682\" xlink:href=\"#m7334740044\" y=\"224.64\"/>\n      </g>\n     </g>\n     <g id=\"text_1\">\n      <!-- 0.0 -->\n      <defs>\n       <path d=\"M 31.78125 66.40625 \nQ 24.171875 66.40625 20.328125 58.90625 \nQ 16.5 51.421875 16.5 36.375 \nQ 16.5 21.390625 20.328125 13.890625 \nQ 24.171875 6.390625 31.78125 6.390625 \nQ 39.453125 6.390625 43.28125 13.890625 \nQ 47.125 21.390625 47.125 36.375 \nQ 47.125 51.421875 43.28125 58.90625 \nQ 39.453125 66.40625 31.78125 66.40625 \nz\nM 31.78125 74.21875 \nQ 44.046875 74.21875 50.515625 64.515625 \nQ 56.984375 54.828125 56.984375 36.375 \nQ 56.984375 17.96875 50.515625 8.265625 \nQ 44.046875 -1.421875 31.78125 -1.421875 \nQ 19.53125 -1.421875 13.0625 8.265625 \nQ 6.59375 17.96875 6.59375 36.375 \nQ 6.59375 54.828125 13.0625 64.515625 \nQ 19.53125 74.21875 31.78125 74.21875 \nz\n\" id=\"DejaVuSans-48\"/>\n       <path d=\"M 10.6875 12.40625 \nL 21 12.40625 \nL 21 0 \nL 10.6875 0 \nz\n\" id=\"DejaVuSans-46\"/>\n      </defs>\n      <g transform=\"translate(40.554119 239.238437)scale(0.1 -0.1)\">\n       <use xlink:href=\"#DejaVuSans-48\"/>\n       <use x=\"63.623047\" xlink:href=\"#DejaVuSans-46\"/>\n       <use x=\"95.410156\" xlink:href=\"#DejaVuSans-48\"/>\n      </g>\n     </g>\n    </g>\n    <g id=\"xtick_2\">\n     <g id=\"line2d_2\">\n      <g>\n       <use style=\"stroke:#000000;stroke-width:0.8;\" x=\"109.378409\" xlink:href=\"#m7334740044\" y=\"224.64\"/>\n      </g>\n     </g>\n     <g id=\"text_2\">\n      <!-- 0.2 -->\n      <defs>\n       <path d=\"M 19.1875 8.296875 \nL 53.609375 8.296875 \nL 53.609375 0 \nL 7.328125 0 \nL 7.328125 8.296875 \nQ 12.9375 14.109375 22.625 23.890625 \nQ 32.328125 33.6875 34.8125 36.53125 \nQ 39.546875 41.84375 41.421875 45.53125 \nQ 43.3125 49.21875 43.3125 52.78125 \nQ 43.3125 58.59375 39.234375 62.25 \nQ 35.15625 65.921875 28.609375 65.921875 \nQ 23.96875 65.921875 18.8125 64.3125 \nQ 13.671875 62.703125 7.8125 59.421875 \nL 7.8125 69.390625 \nQ 13.765625 71.78125 18.9375 73 \nQ 24.125 74.21875 28.421875 74.21875 \nQ 39.75 74.21875 46.484375 68.546875 \nQ 53.21875 62.890625 53.21875 53.421875 \nQ 53.21875 48.921875 51.53125 44.890625 \nQ 49.859375 40.875 45.40625 35.40625 \nQ 44.1875 33.984375 37.640625 27.21875 \nQ 31.109375 20.453125 19.1875 8.296875 \nz\n\" id=\"DejaVuSans-50\"/>\n      </defs>\n      <g transform=\"translate(101.426847 239.238437)scale(0.1 -0.1)\">\n       <use xlink:href=\"#DejaVuSans-48\"/>\n       <use x=\"63.623047\" xlink:href=\"#DejaVuSans-46\"/>\n       <use x=\"95.410156\" xlink:href=\"#DejaVuSans-50\"/>\n      </g>\n     </g>\n    </g>\n    <g id=\"xtick_3\">\n     <g id=\"line2d_3\">\n      <g>\n       <use style=\"stroke:#000000;stroke-width:0.8;\" x=\"170.251136\" xlink:href=\"#m7334740044\" y=\"224.64\"/>\n      </g>\n     </g>\n     <g id=\"text_3\">\n      <!-- 0.4 -->\n      <defs>\n       <path d=\"M 37.796875 64.3125 \nL 12.890625 25.390625 \nL 37.796875 25.390625 \nz\nM 35.203125 72.90625 \nL 47.609375 72.90625 \nL 47.609375 25.390625 \nL 58.015625 25.390625 \nL 58.015625 17.1875 \nL 47.609375 17.1875 \nL 47.609375 0 \nL 37.796875 0 \nL 37.796875 17.1875 \nL 4.890625 17.1875 \nL 4.890625 26.703125 \nz\n\" id=\"DejaVuSans-52\"/>\n      </defs>\n      <g transform=\"translate(162.299574 239.238437)scale(0.1 -0.1)\">\n       <use xlink:href=\"#DejaVuSans-48\"/>\n       <use x=\"63.623047\" xlink:href=\"#DejaVuSans-46\"/>\n       <use x=\"95.410156\" xlink:href=\"#DejaVuSans-52\"/>\n      </g>\n     </g>\n    </g>\n    <g id=\"xtick_4\">\n     <g id=\"line2d_4\">\n      <g>\n       <use style=\"stroke:#000000;stroke-width:0.8;\" x=\"231.123864\" xlink:href=\"#m7334740044\" y=\"224.64\"/>\n      </g>\n     </g>\n     <g id=\"text_4\">\n      <!-- 0.6 -->\n      <defs>\n       <path d=\"M 33.015625 40.375 \nQ 26.375 40.375 22.484375 35.828125 \nQ 18.609375 31.296875 18.609375 23.390625 \nQ 18.609375 15.53125 22.484375 10.953125 \nQ 26.375 6.390625 33.015625 6.390625 \nQ 39.65625 6.390625 43.53125 10.953125 \nQ 47.40625 15.53125 47.40625 23.390625 \nQ 47.40625 31.296875 43.53125 35.828125 \nQ 39.65625 40.375 33.015625 40.375 \nz\nM 52.59375 71.296875 \nL 52.59375 62.3125 \nQ 48.875 64.0625 45.09375 64.984375 \nQ 41.3125 65.921875 37.59375 65.921875 \nQ 27.828125 65.921875 22.671875 59.328125 \nQ 17.53125 52.734375 16.796875 39.40625 \nQ 19.671875 43.65625 24.015625 45.921875 \nQ 28.375 48.1875 33.59375 48.1875 \nQ 44.578125 48.1875 50.953125 41.515625 \nQ 57.328125 34.859375 57.328125 23.390625 \nQ 57.328125 12.15625 50.6875 5.359375 \nQ 44.046875 -1.421875 33.015625 -1.421875 \nQ 20.359375 -1.421875 13.671875 8.265625 \nQ 6.984375 17.96875 6.984375 36.375 \nQ 6.984375 53.65625 15.1875 63.9375 \nQ 23.390625 74.21875 37.203125 74.21875 \nQ 40.921875 74.21875 44.703125 73.484375 \nQ 48.484375 72.75 52.59375 71.296875 \nz\n\" id=\"DejaVuSans-54\"/>\n      </defs>\n      <g transform=\"translate(223.172301 239.238437)scale(0.1 -0.1)\">\n       <use xlink:href=\"#DejaVuSans-48\"/>\n       <use x=\"63.623047\" xlink:href=\"#DejaVuSans-46\"/>\n       <use x=\"95.410156\" xlink:href=\"#DejaVuSans-54\"/>\n      </g>\n     </g>\n    </g>\n    <g id=\"xtick_5\">\n     <g id=\"line2d_5\">\n      <g>\n       <use style=\"stroke:#000000;stroke-width:0.8;\" x=\"291.996591\" xlink:href=\"#m7334740044\" y=\"224.64\"/>\n      </g>\n     </g>\n     <g id=\"text_5\">\n      <!-- 0.8 -->\n      <defs>\n       <path d=\"M 31.78125 34.625 \nQ 24.75 34.625 20.71875 30.859375 \nQ 16.703125 27.09375 16.703125 20.515625 \nQ 16.703125 13.921875 20.71875 10.15625 \nQ 24.75 6.390625 31.78125 6.390625 \nQ 38.8125 6.390625 42.859375 10.171875 \nQ 46.921875 13.96875 46.921875 20.515625 \nQ 46.921875 27.09375 42.890625 30.859375 \nQ 38.875 34.625 31.78125 34.625 \nz\nM 21.921875 38.8125 \nQ 15.578125 40.375 12.03125 44.71875 \nQ 8.5 49.078125 8.5 55.328125 \nQ 8.5 64.0625 14.71875 69.140625 \nQ 20.953125 74.21875 31.78125 74.21875 \nQ 42.671875 74.21875 48.875 69.140625 \nQ 55.078125 64.0625 55.078125 55.328125 \nQ 55.078125 49.078125 51.53125 44.71875 \nQ 48 40.375 41.703125 38.8125 \nQ 48.828125 37.15625 52.796875 32.3125 \nQ 56.78125 27.484375 56.78125 20.515625 \nQ 56.78125 9.90625 50.3125 4.234375 \nQ 43.84375 -1.421875 31.78125 -1.421875 \nQ 19.734375 -1.421875 13.25 4.234375 \nQ 6.78125 9.90625 6.78125 20.515625 \nQ 6.78125 27.484375 10.78125 32.3125 \nQ 14.796875 37.15625 21.921875 38.8125 \nz\nM 18.3125 54.390625 \nQ 18.3125 48.734375 21.84375 45.5625 \nQ 25.390625 42.390625 31.78125 42.390625 \nQ 38.140625 42.390625 41.71875 45.5625 \nQ 45.3125 48.734375 45.3125 54.390625 \nQ 45.3125 60.0625 41.71875 63.234375 \nQ 38.140625 66.40625 31.78125 66.40625 \nQ 25.390625 66.40625 21.84375 63.234375 \nQ 18.3125 60.0625 18.3125 54.390625 \nz\n\" id=\"DejaVuSans-56\"/>\n      </defs>\n      <g transform=\"translate(284.045028 239.238437)scale(0.1 -0.1)\">\n       <use xlink:href=\"#DejaVuSans-48\"/>\n       <use x=\"63.623047\" xlink:href=\"#DejaVuSans-46\"/>\n       <use x=\"95.410156\" xlink:href=\"#DejaVuSans-56\"/>\n      </g>\n     </g>\n    </g>\n    <g id=\"xtick_6\">\n     <g id=\"line2d_6\">\n      <g>\n       <use style=\"stroke:#000000;stroke-width:0.8;\" x=\"352.869318\" xlink:href=\"#m7334740044\" y=\"224.64\"/>\n      </g>\n     </g>\n     <g id=\"text_6\">\n      <!-- 1.0 -->\n      <defs>\n       <path d=\"M 12.40625 8.296875 \nL 28.515625 8.296875 \nL 28.515625 63.921875 \nL 10.984375 60.40625 \nL 10.984375 69.390625 \nL 28.421875 72.90625 \nL 38.28125 72.90625 \nL 38.28125 8.296875 \nL 54.390625 8.296875 \nL 54.390625 0 \nL 12.40625 0 \nz\n\" id=\"DejaVuSans-49\"/>\n      </defs>\n      <g transform=\"translate(344.917756 239.238437)scale(0.1 -0.1)\">\n       <use xlink:href=\"#DejaVuSans-49\"/>\n       <use x=\"63.623047\" xlink:href=\"#DejaVuSans-46\"/>\n       <use x=\"95.410156\" xlink:href=\"#DejaVuSans-48\"/>\n      </g>\n     </g>\n    </g>\n   </g>\n   <g id=\"matplotlib.axis_2\">\n    <g id=\"ytick_1\">\n     <g id=\"line2d_7\">\n      <defs>\n       <path d=\"M 0 0 \nL -3.5 0 \n\" id=\"m2f06b75093\" style=\"stroke:#000000;stroke-width:0.8;\"/>\n      </defs>\n      <g>\n       <use style=\"stroke:#000000;stroke-width:0.8;\" x=\"33.2875\" xlink:href=\"#m2f06b75093\" y=\"224.64\"/>\n      </g>\n     </g>\n     <g id=\"text_7\">\n      <!-- 0 -->\n      <g transform=\"translate(19.925 228.439219)scale(0.1 -0.1)\">\n       <use xlink:href=\"#DejaVuSans-48\"/>\n      </g>\n     </g>\n    </g>\n    <g id=\"ytick_2\">\n     <g id=\"line2d_8\">\n      <g>\n       <use style=\"stroke:#000000;stroke-width:0.8;\" x=\"33.2875\" xlink:href=\"#m2f06b75093\" y=\"192.975518\"/>\n      </g>\n     </g>\n     <g id=\"text_8\">\n      <!-- 100 -->\n      <g transform=\"translate(7.2 196.774736)scale(0.1 -0.1)\">\n       <use xlink:href=\"#DejaVuSans-49\"/>\n       <use x=\"63.623047\" xlink:href=\"#DejaVuSans-48\"/>\n       <use x=\"127.246094\" xlink:href=\"#DejaVuSans-48\"/>\n      </g>\n     </g>\n    </g>\n    <g id=\"ytick_3\">\n     <g id=\"line2d_9\">\n      <g>\n       <use style=\"stroke:#000000;stroke-width:0.8;\" x=\"33.2875\" xlink:href=\"#m2f06b75093\" y=\"161.311035\"/>\n      </g>\n     </g>\n     <g id=\"text_9\">\n      <!-- 200 -->\n      <g transform=\"translate(7.2 165.110254)scale(0.1 -0.1)\">\n       <use xlink:href=\"#DejaVuSans-50\"/>\n       <use x=\"63.623047\" xlink:href=\"#DejaVuSans-48\"/>\n       <use x=\"127.246094\" xlink:href=\"#DejaVuSans-48\"/>\n      </g>\n     </g>\n    </g>\n    <g id=\"ytick_4\">\n     <g id=\"line2d_10\">\n      <g>\n       <use style=\"stroke:#000000;stroke-width:0.8;\" x=\"33.2875\" xlink:href=\"#m2f06b75093\" y=\"129.646553\"/>\n      </g>\n     </g>\n     <g id=\"text_10\">\n      <!-- 300 -->\n      <defs>\n       <path d=\"M 40.578125 39.3125 \nQ 47.65625 37.796875 51.625 33 \nQ 55.609375 28.21875 55.609375 21.1875 \nQ 55.609375 10.40625 48.1875 4.484375 \nQ 40.765625 -1.421875 27.09375 -1.421875 \nQ 22.515625 -1.421875 17.65625 -0.515625 \nQ 12.796875 0.390625 7.625 2.203125 \nL 7.625 11.71875 \nQ 11.71875 9.328125 16.59375 8.109375 \nQ 21.484375 6.890625 26.8125 6.890625 \nQ 36.078125 6.890625 40.9375 10.546875 \nQ 45.796875 14.203125 45.796875 21.1875 \nQ 45.796875 27.640625 41.28125 31.265625 \nQ 36.765625 34.90625 28.71875 34.90625 \nL 20.21875 34.90625 \nL 20.21875 43.015625 \nL 29.109375 43.015625 \nQ 36.375 43.015625 40.234375 45.921875 \nQ 44.09375 48.828125 44.09375 54.296875 \nQ 44.09375 59.90625 40.109375 62.90625 \nQ 36.140625 65.921875 28.71875 65.921875 \nQ 24.65625 65.921875 20.015625 65.03125 \nQ 15.375 64.15625 9.8125 62.3125 \nL 9.8125 71.09375 \nQ 15.4375 72.65625 20.34375 73.4375 \nQ 25.25 74.21875 29.59375 74.21875 \nQ 40.828125 74.21875 47.359375 69.109375 \nQ 53.90625 64.015625 53.90625 55.328125 \nQ 53.90625 49.265625 50.4375 45.09375 \nQ 46.96875 40.921875 40.578125 39.3125 \nz\n\" id=\"DejaVuSans-51\"/>\n      </defs>\n      <g transform=\"translate(7.2 133.445772)scale(0.1 -0.1)\">\n       <use xlink:href=\"#DejaVuSans-51\"/>\n       <use x=\"63.623047\" xlink:href=\"#DejaVuSans-48\"/>\n       <use x=\"127.246094\" xlink:href=\"#DejaVuSans-48\"/>\n      </g>\n     </g>\n    </g>\n    <g id=\"ytick_5\">\n     <g id=\"line2d_11\">\n      <g>\n       <use style=\"stroke:#000000;stroke-width:0.8;\" x=\"33.2875\" xlink:href=\"#m2f06b75093\" y=\"97.982071\"/>\n      </g>\n     </g>\n     <g id=\"text_11\">\n      <!-- 400 -->\n      <g transform=\"translate(7.2 101.78129)scale(0.1 -0.1)\">\n       <use xlink:href=\"#DejaVuSans-52\"/>\n       <use x=\"63.623047\" xlink:href=\"#DejaVuSans-48\"/>\n       <use x=\"127.246094\" xlink:href=\"#DejaVuSans-48\"/>\n      </g>\n     </g>\n    </g>\n    <g id=\"ytick_6\">\n     <g id=\"line2d_12\">\n      <g>\n       <use style=\"stroke:#000000;stroke-width:0.8;\" x=\"33.2875\" xlink:href=\"#m2f06b75093\" y=\"66.317588\"/>\n      </g>\n     </g>\n     <g id=\"text_12\">\n      <!-- 500 -->\n      <defs>\n       <path d=\"M 10.796875 72.90625 \nL 49.515625 72.90625 \nL 49.515625 64.59375 \nL 19.828125 64.59375 \nL 19.828125 46.734375 \nQ 21.96875 47.46875 24.109375 47.828125 \nQ 26.265625 48.1875 28.421875 48.1875 \nQ 40.625 48.1875 47.75 41.5 \nQ 54.890625 34.8125 54.890625 23.390625 \nQ 54.890625 11.625 47.5625 5.09375 \nQ 40.234375 -1.421875 26.90625 -1.421875 \nQ 22.3125 -1.421875 17.546875 -0.640625 \nQ 12.796875 0.140625 7.71875 1.703125 \nL 7.71875 11.625 \nQ 12.109375 9.234375 16.796875 8.0625 \nQ 21.484375 6.890625 26.703125 6.890625 \nQ 35.15625 6.890625 40.078125 11.328125 \nQ 45.015625 15.765625 45.015625 23.390625 \nQ 45.015625 31 40.078125 35.4375 \nQ 35.15625 39.890625 26.703125 39.890625 \nQ 22.75 39.890625 18.8125 39.015625 \nQ 14.890625 38.140625 10.796875 36.28125 \nz\n\" id=\"DejaVuSans-53\"/>\n      </defs>\n      <g transform=\"translate(7.2 70.116807)scale(0.1 -0.1)\">\n       <use xlink:href=\"#DejaVuSans-53\"/>\n       <use x=\"63.623047\" xlink:href=\"#DejaVuSans-48\"/>\n       <use x=\"127.246094\" xlink:href=\"#DejaVuSans-48\"/>\n      </g>\n     </g>\n    </g>\n    <g id=\"ytick_7\">\n     <g id=\"line2d_13\">\n      <g>\n       <use style=\"stroke:#000000;stroke-width:0.8;\" x=\"33.2875\" xlink:href=\"#m2f06b75093\" y=\"34.653106\"/>\n      </g>\n     </g>\n     <g id=\"text_13\">\n      <!-- 600 -->\n      <g transform=\"translate(7.2 38.452325)scale(0.1 -0.1)\">\n       <use xlink:href=\"#DejaVuSans-54\"/>\n       <use x=\"63.623047\" xlink:href=\"#DejaVuSans-48\"/>\n       <use x=\"127.246094\" xlink:href=\"#DejaVuSans-48\"/>\n      </g>\n     </g>\n    </g>\n   </g>\n   <g id=\"patch_13\">\n    <path d=\"M 33.2875 224.64 \nL 33.2875 7.2 \n\" style=\"fill:none;stroke:#000000;stroke-linecap:square;stroke-linejoin:miter;stroke-width:0.8;\"/>\n   </g>\n   <g id=\"patch_14\">\n    <path d=\"M 368.0875 224.64 \nL 368.0875 7.2 \n\" style=\"fill:none;stroke:#000000;stroke-linecap:square;stroke-linejoin:miter;stroke-width:0.8;\"/>\n   </g>\n   <g id=\"patch_15\">\n    <path d=\"M 33.2875 224.64 \nL 368.0875 224.64 \n\" style=\"fill:none;stroke:#000000;stroke-linecap:square;stroke-linejoin:miter;stroke-width:0.8;\"/>\n   </g>\n   <g id=\"patch_16\">\n    <path d=\"M 33.2875 7.2 \nL 368.0875 7.2 \n\" style=\"fill:none;stroke:#000000;stroke-linecap:square;stroke-linejoin:miter;stroke-width:0.8;\"/>\n   </g>\n  </g>\n </g>\n <defs>\n  <clipPath id=\"p0e163bdedd\">\n   <rect height=\"217.44\" width=\"334.8\" x=\"33.2875\" y=\"7.2\"/>\n  </clipPath>\n </defs>\n</svg>\n",
      "image/png": "[encoded data removed]"
     },
     "metadata": {
      "needs_background": "light"
     }
    }
   ],
   "source": [
    "plt.hist(accuracy_array)\n",
    "plt.show()"
   ]
  },
  {
   "cell_type": "code",
   "execution_count": 321,
   "metadata": {},
   "outputs": [
    {
     "output_type": "stream",
     "name": "stdout",
     "text": [
      "Mean Accuracy score: 0.691\nMean F1 score: 0.811\n\nMax Accuracy score: 0.895\nMax F1 score: 0.944\n\n"
     ]
    }
   ],
   "source": [
    "# K-Fold Cross Validation\n",
    "\n",
    "accuracy_array = []\n",
    "f1_array = []\n",
    "\n",
    "kf = KFold(n_splits=50)\n",
    "for train_index, test_index in kf.split(X):\n",
    "    X_train, X_test = extract_elements(X, train_index), extract_elements(X, test_index)\n",
    "    y_train, y_test = extract_elements(y, train_index), extract_elements(y, test_index)\n",
    "    dv = DictVectorizer()\n",
    "    train_feature_set = dv.fit_transform(X_train)\n",
    "    test_feature_set = dv.transform(X_test)\n",
    "    lr = LogisticRegression(solver='liblinear', random_state=42, max_iter=1000)\n",
    "    lr.fit(train_feature_set, y_train)\n",
    "    test_pred_y = lr.predict(test_feature_set)\n",
    "    accuracy = accuracy_score(y_test, test_pred_y)\n",
    "    f1 = f1_score(y_test, test_pred_y)\n",
    "    accuracy_array.append(accuracy)\n",
    "    f1_array.append(f1)\n",
    "\n",
    "\n",
    "print(f\"Mean Accuracy score: {round(np.mean(accuracy_array), 3)}\")\n",
    "print(f\"Mean F1 score: {round(np.mean(f1_array), 3)}\\n\")\n",
    "print(f\"Max Accuracy score: {round(np.max(accuracy_array), 3)}\")\n",
    "print(f\"Max F1 score: {round(np.max(f1_array), 3)}\\n\")"
   ]
  },
  {
   "cell_type": "code",
   "execution_count": 328,
   "metadata": {},
   "outputs": [
    {
     "output_type": "stream",
     "name": "stdout",
     "text": [
      "ever_diagnosed\n",
      "No       7\n",
      "Yes    482\n",
      "Name: ever_diagnosed, dtype: int64\n",
      "ever_diagnosed\n",
      "No       7\n",
      "Yes    482\n",
      "Name: ever_diagnosed, dtype: int64\n",
      "Mean Accuracy score: 0.986\n",
      "Mean F1 score: 0.993\n",
      "\n",
      "Max Accuracy score: 1.0\n",
      "Max F1 score: 1.0\n",
      "\n"
     ]
    }
   ],
   "source": [
    "# Now, same k-fold cross validation, but predicting if ever_diagnosed\n",
    "# Keep in mind that there are VERY few entries that are false here. \n",
    "print(dset.groupby('ever_diagnosed')['ever_diagnosed'].count())\n",
    "dset2 = dset[pd.notna(dset['ever_diagnosed'])]\n",
    "print(dset2.groupby('ever_diagnosed')['ever_diagnosed'].count())\n",
    "\n",
    "X = list(map(feature_dict_of_entry, dset2.iterrows()))\n",
    "y = [entry[1]['ever_diagnosed'].lower() == 'yes' for entry in dset2.iterrows()]\n",
    "\n",
    "accuracy_array = []\n",
    "f1_array = []\n",
    "\n",
    "kf = KFold(n_splits=50)\n",
    "for train_index, test_index in kf.split(X):\n",
    "    X_train, X_test = extract_elements(X, train_index), extract_elements(X, test_index)\n",
    "    y_train, y_test = extract_elements(y, train_index), extract_elements(y, test_index)\n",
    "    dv = DictVectorizer()\n",
    "    train_feature_set = dv.fit_transform(X_train)\n",
    "    test_feature_set = dv.transform(X_test)\n",
    "    lr = LogisticRegression(solver='liblinear', random_state=42, max_iter=1000)\n",
    "    lr.fit(train_feature_set, y_train)\n",
    "    test_pred_y = lr.predict(test_feature_set)\n",
    "    accuracy = accuracy_score(y_test, test_pred_y)\n",
    "    f1 = f1_score(y_test, test_pred_y)\n",
    "    accuracy_array.append(accuracy)\n",
    "    f1_array.append(f1)\n",
    "\n",
    "\n",
    "print(f\"Mean Accuracy score: {round(np.mean(accuracy_array), 3)}\")\n",
    "print(f\"Mean F1 score: {round(np.mean(f1_array), 3)}\\n\")\n",
    "print(f\"Max Accuracy score: {round(np.max(accuracy_array), 3)}\")\n",
    "print(f\"Max F1 score: {round(np.max(f1_array), 3)}\\n\")"
   ]
  },
  {
   "cell_type": "code",
   "execution_count": 393,
   "metadata": {},
   "outputs": [
    {
     "output_type": "execute_result",
     "data": {
      "text/plain": [
       "ever_diagnosed\n",
       "0.0      7\n",
       "1.0    940\n",
       "Name: ever_diagnosed, dtype: int64"
      ]
     },
     "metadata": {},
     "execution_count": 393
    }
   ],
   "source": [
    "dset1_imputed = pd.read_csv(data_directory / dset1_imputed_path)\n",
    "dset1_imputed = dset1_imputed[pd.notna(dset1_imputed['know_resources'])]\n",
    "dset1_imputed = dset1_imputed[pd.notna(dset1_imputed['gender'])]\n",
    "dset1_imputed = dset1_imputed[pd.notna(dset1_imputed['race'])]\n",
    "dset1_imputed.groupby('ever_diagnosed')['ever_diagnosed'].count()"
   ]
  },
  {
   "cell_type": "code",
   "execution_count": 394,
   "metadata": {},
   "outputs": [
    {
     "output_type": "execute_result",
     "data": {
      "text/plain": [
       "ever_diagnosed\n",
       "0.0      15\n",
       "1.0    1510\n",
       "Name: ever_diagnosed, dtype: int64"
      ]
     },
     "metadata": {},
     "execution_count": 394
    }
   ],
   "source": [
    "dset2_imputed = pd.read_csv(data_directory / dset2_imputed_path)\n",
    "dset2_imputed = dset2_imputed[pd.notna(dset2_imputed['know_resources'])]\n",
    "dset2_imputed.groupby('ever_diagnosed')['ever_diagnosed'].count()\n",
    "\n",
    "# For both these datasets, sought_treatment is 0, so no easy way to do any analysis on that. I will do ever_diagnosed instead\n",
    "# but those are HEAVILY skewed toward yes diagnosed (3035 vs 15)"
   ]
  },
  {
   "cell_type": "code",
   "execution_count": 401,
   "metadata": {
    "tags": []
   },
   "outputs": [
    {
     "output_type": "stream",
     "name": "stdout",
     "text": [
      "757 753.0\nAccuracy score: 0.984\nF1 score: 0.992\n\n                        precision    recall  f1-score   support\n\nDid not Seek Treatment       0.00      0.00      0.00         3\n      Sought Treatment       0.98      1.00      0.99       187\n\n              accuracy                           0.98       190\n             macro avg       0.49      0.50      0.50       190\n          weighted avg       0.97      0.98      0.98       190\n\n"
     ]
    }
   ],
   "source": [
    "def feature_dict_of_entry4(entry) -> Dict:\n",
    "    # DictVectorizer automatically turns strings into one-hot encodings (so we do not have to do so for categorical variables like country).\n",
    "    # Encode as ordinal\n",
    "    know_resources = {\n",
    "        \"No, I don't know any\" : 0,\n",
    "        \"I know some\" : 1,\n",
    "        \"Yes, I know several\" : 2\n",
    "    }\n",
    "    result = {\n",
    "        # \"age\" : entry['age'],\n",
    "        \"country\" : entry[\"country_live\"],\n",
    "        \"state\" : entry[\"state_live\"] if isinstance(entry[\"state_live\"], str) else \"\",\n",
    "        \"gender\" : entry[\"gender\"], \n",
    "        \"race\" : entry[\"race\"],\n",
    "        \"family_history\" : entry[\"family_history\"],\n",
    "        \"share_with_friends_and_family\" : entry[\"share_with_f&f\"],\n",
    "        \"primarily_tech\" : entry[\"primarily_tech\"] if isinstance(entry[\"primarily_tech\"], str) else \"\",\n",
    "        \"know_resources\" : know_resources.get(entry[\"know_resources\"], -1)\n",
    "    }\n",
    "    return result\n",
    "\n",
    "def get_why_bring_up(entry):\n",
    "    result = entry['interview_why'] \n",
    "    result = result if isinstance(result, str) else \"\"\n",
    "    return result\n",
    "\n",
    "X = [(feature_dict_of_entry4(entry), get_why_bring_up(entry)) for idx, entry in dset1_imputed.iterrows()]\n",
    "y = [entry[1]['ever_diagnosed'] for entry in dset1_imputed.iterrows()]\n",
    "\n",
    "TRAIN_PROPORTION = 0.8\n",
    "X_train, X_test, y_train, y_test = train_test_split(X, y, train_size=TRAIN_PROPORTION, random_state=42)\n",
    "X_train_dict, X_train_text = zip(*X_train)\n",
    "X_test_dict, X_test_text = zip(*X_test)\n",
    "\n",
    "dv = DictVectorizer()\n",
    "train_feature_set_dict = dv.fit_transform(X_train_dict)\n",
    "test_feature_set_dict = dv.transform(X_test_dict)\n",
    "\n",
    "cv = CountVectorizer(binary=True, min_df=0, max_df=0.98)\n",
    "train_array_text = cv.fit_transform(X_train_text)\n",
    "test_array_text = cv.transform(X_test_text)\n",
    "\n",
    "train_feature_set = hstack((train_feature_set_dict, train_array_text))\n",
    "test_feature_set = hstack((test_feature_set_dict, test_array_text))\n",
    "lr = LogisticRegression(solver='liblinear', random_state=42, max_iter=1000)\n",
    "lr.fit(train_feature_set, y_train)\n",
    "test_pred_y = lr.predict(test_feature_set)\n",
    "\n",
    "accuracy = accuracy_score(y_test, test_pred_y)\n",
    "f1 = f1_score(y_test, test_pred_y)\n",
    "\n",
    "print(f\"Accuracy score: {round(accuracy, 3)}\")\n",
    "print(f\"F1 score: {round(f1, 3)}\\n\")\n",
    "\n",
    "target_names = [\"Did not Seek Treatment\", \"Sought Treatment\"]\n",
    "report = classification_report(y_test, test_pred_y, target_names=target_names)\n",
    "print(report)\n",
    "\n",
    "\n"
   ]
  },
  {
   "cell_type": "code",
   "execution_count": 404,
   "metadata": {},
   "outputs": [
    {
     "output_type": "stream",
     "name": "stdout",
     "text": [
      "Mean Accuracy score: 0.984\nMean F1 score: 0.992\n\nMax Accuracy score: 0.984\nMax F1 score: 0.992\n\n"
     ]
    }
   ],
   "source": [
    "accuracy_array = []\n",
    "f1_array = []\n",
    "\n",
    "kf = KFold(n_splits=50)\n",
    "for train_index, test_index in kf.split(X):\n",
    "    X_train, X_test, y_train, y_test = train_test_split(X, y, train_size=TRAIN_PROPORTION, random_state=42)\n",
    "    X_train_dict, X_train_text = zip(*X_train)\n",
    "    X_test_dict, X_test_text = zip(*X_test)\n",
    "\n",
    "    dv = DictVectorizer()\n",
    "    train_feature_set_dict = dv.fit_transform(X_train_dict)\n",
    "    test_feature_set_dict = dv.transform(X_test_dict)\n",
    "\n",
    "    cv = CountVectorizer(binary=True, min_df=0, max_df=0.98)\n",
    "    train_array_text = cv.fit_transform(X_train_text)\n",
    "    test_array_text = cv.transform(X_test_text)\n",
    "\n",
    "    train_feature_set = hstack((train_feature_set_dict, train_array_text))\n",
    "    test_feature_set = hstack((test_feature_set_dict, test_array_text))\n",
    "    lr = LogisticRegression(solver='liblinear', random_state=42, max_iter=1000)\n",
    "    lr.fit(train_feature_set, y_train)\n",
    "    test_pred_y = lr.predict(test_feature_set)\n",
    "\n",
    "    accuracy = accuracy_score(y_test, test_pred_y)\n",
    "    f1 = f1_score(y_test, test_pred_y)\n",
    "    accuracy_array.append(accuracy)\n",
    "    f1_array.append(f1)\n",
    "    # X_train, X_test = extract_elements(X, train_index), extract_elements(X, test_index)\n",
    "    # y_train, y_test = extract_elements(y, train_index), extract_elements(y, test_index)\n",
    "    # dv = DictVectorizer()\n",
    "    # train_feature_set = dv.fit_transform(X_train)\n",
    "    # test_feature_set = dv.transform(X_test)\n",
    "    # lr = LogisticRegression(solver='liblinear', random_state=42, max_iter=1000)\n",
    "    # lr.fit(train_feature_set, y_train)\n",
    "    # test_pred_y = lr.predict(test_feature_set)\n",
    "    # accuracy = accuracy_score(y_test, test_pred_y)\n",
    "    # f1 = f1_score(y_test, test_pred_y)\n",
    "    # accuracy_array.append(accuracy)\n",
    "    # f1_array.append(f1)\n",
    "\n",
    "\n",
    "print(f\"Mean Accuracy score: {round(np.mean(accuracy_array), 3)}\")\n",
    "print(f\"Mean F1 score: {round(np.mean(f1_array), 3)}\\n\")\n",
    "print(f\"Max Accuracy score: {round(np.max(accuracy_array), 3)}\")\n",
    "print(f\"Max F1 score: {round(np.max(f1_array), 3)}\\n\")"
   ]
  },
  {
   "cell_type": "code",
   "execution_count": 405,
   "metadata": {},
   "outputs": [
    {
     "output_type": "display_data",
     "data": {
      "text/plain": "<Figure size 432x288 with 1 Axes>",
      "image/svg+xml": "<?xml version=\"1.0\" encoding=\"utf-8\" standalone=\"no\"?>\n<!DOCTYPE svg PUBLIC \"-//W3C//DTD SVG 1.1//EN\"\n  \"http://www.w3.org/Graphics/SVG/1.1/DTD/svg11.dtd\">\n<!-- Created with matplotlib (https://matplotlib.org/) -->\n<svg height=\"248.518125pt\" version=\"1.1\" viewBox=\"0 0 368.925 248.518125\" width=\"368.925pt\" xmlns=\"http://www.w3.org/2000/svg\" xmlns:xlink=\"http://www.w3.org/1999/xlink\">\n <defs>\n  <style type=\"text/css\">\n*{stroke-linecap:butt;stroke-linejoin:round;}\n  </style>\n </defs>\n <g id=\"figure_1\">\n  <g id=\"patch_1\">\n   <path d=\"M -0 248.518125 \nL 368.925 248.518125 \nL 368.925 0 \nL -0 0 \nz\n\" style=\"fill:none;\"/>\n  </g>\n  <g id=\"axes_1\">\n   <g id=\"patch_2\">\n    <path d=\"M 26.925 224.64 \nL 361.725 224.64 \nL 361.725 7.2 \nL 26.925 7.2 \nz\n\" style=\"fill:#ffffff;\"/>\n   </g>\n   <g id=\"patch_3\">\n    <path clip-path=\"url(#pa6ee4fd557)\" d=\"M 42.143182 224.64 \nL 72.579545 224.64 \nL 72.579545 224.64 \nL 42.143182 224.64 \nz\n\" style=\"fill:#1f77b4;\"/>\n   </g>\n   <g id=\"patch_4\">\n    <path clip-path=\"url(#pa6ee4fd557)\" d=\"M 72.579545 224.64 \nL 103.015909 224.64 \nL 103.015909 224.64 \nL 72.579545 224.64 \nz\n\" style=\"fill:#1f77b4;\"/>\n   </g>\n   <g id=\"patch_5\">\n    <path clip-path=\"url(#pa6ee4fd557)\" d=\"M 103.015909 224.64 \nL 133.452273 224.64 \nL 133.452273 224.64 \nL 103.015909 224.64 \nz\n\" style=\"fill:#1f77b4;\"/>\n   </g>\n   <g id=\"patch_6\">\n    <path clip-path=\"url(#pa6ee4fd557)\" d=\"M 133.452273 224.64 \nL 163.888636 224.64 \nL 163.888636 224.64 \nL 133.452273 224.64 \nz\n\" style=\"fill:#1f77b4;\"/>\n   </g>\n   <g id=\"patch_7\">\n    <path clip-path=\"url(#pa6ee4fd557)\" d=\"M 163.888636 224.64 \nL 194.325 224.64 \nL 194.325 224.64 \nL 163.888636 224.64 \nz\n\" style=\"fill:#1f77b4;\"/>\n   </g>\n   <g id=\"patch_8\">\n    <path clip-path=\"url(#pa6ee4fd557)\" d=\"M 194.325 224.64 \nL 224.761364 224.64 \nL 224.761364 17.554286 \nL 194.325 17.554286 \nz\n\" style=\"fill:#1f77b4;\"/>\n   </g>\n   <g id=\"patch_9\">\n    <path clip-path=\"url(#pa6ee4fd557)\" d=\"M 224.761364 224.64 \nL 255.197727 224.64 \nL 255.197727 224.64 \nL 224.761364 224.64 \nz\n\" style=\"fill:#1f77b4;\"/>\n   </g>\n   <g id=\"patch_10\">\n    <path clip-path=\"url(#pa6ee4fd557)\" d=\"M 255.197727 224.64 \nL 285.634091 224.64 \nL 285.634091 224.64 \nL 255.197727 224.64 \nz\n\" style=\"fill:#1f77b4;\"/>\n   </g>\n   <g id=\"patch_11\">\n    <path clip-path=\"url(#pa6ee4fd557)\" d=\"M 285.634091 224.64 \nL 316.070455 224.64 \nL 316.070455 224.64 \nL 285.634091 224.64 \nz\n\" style=\"fill:#1f77b4;\"/>\n   </g>\n   <g id=\"patch_12\">\n    <path clip-path=\"url(#pa6ee4fd557)\" d=\"M 316.070455 224.64 \nL 346.506818 224.64 \nL 346.506818 224.64 \nL 316.070455 224.64 \nz\n\" style=\"fill:#1f77b4;\"/>\n   </g>\n   <g id=\"matplotlib.axis_1\">\n    <g id=\"xtick_1\">\n     <g id=\"line2d_1\">\n      <defs>\n       <path d=\"M 0 0 \nL 0 3.5 \n\" id=\"mba19d14c3b\" style=\"stroke:#000000;stroke-width:0.8;\"/>\n      </defs>\n      <g>\n       <use style=\"stroke:#000000;stroke-width:0.8;\" x=\"77.385287\" xlink:href=\"#mba19d14c3b\" y=\"224.64\"/>\n      </g>\n     </g>\n     <g id=\"text_1\">\n      <!-- 0.6 -->\n      <defs>\n       <path d=\"M 31.78125 66.40625 \nQ 24.171875 66.40625 20.328125 58.90625 \nQ 16.5 51.421875 16.5 36.375 \nQ 16.5 21.390625 20.328125 13.890625 \nQ 24.171875 6.390625 31.78125 6.390625 \nQ 39.453125 6.390625 43.28125 13.890625 \nQ 47.125 21.390625 47.125 36.375 \nQ 47.125 51.421875 43.28125 58.90625 \nQ 39.453125 66.40625 31.78125 66.40625 \nz\nM 31.78125 74.21875 \nQ 44.046875 74.21875 50.515625 64.515625 \nQ 56.984375 54.828125 56.984375 36.375 \nQ 56.984375 17.96875 50.515625 8.265625 \nQ 44.046875 -1.421875 31.78125 -1.421875 \nQ 19.53125 -1.421875 13.0625 8.265625 \nQ 6.59375 17.96875 6.59375 36.375 \nQ 6.59375 54.828125 13.0625 64.515625 \nQ 19.53125 74.21875 31.78125 74.21875 \nz\n\" id=\"DejaVuSans-48\"/>\n       <path d=\"M 10.6875 12.40625 \nL 21 12.40625 \nL 21 0 \nL 10.6875 0 \nz\n\" id=\"DejaVuSans-46\"/>\n       <path d=\"M 33.015625 40.375 \nQ 26.375 40.375 22.484375 35.828125 \nQ 18.609375 31.296875 18.609375 23.390625 \nQ 18.609375 15.53125 22.484375 10.953125 \nQ 26.375 6.390625 33.015625 6.390625 \nQ 39.65625 6.390625 43.53125 10.953125 \nQ 47.40625 15.53125 47.40625 23.390625 \nQ 47.40625 31.296875 43.53125 35.828125 \nQ 39.65625 40.375 33.015625 40.375 \nz\nM 52.59375 71.296875 \nL 52.59375 62.3125 \nQ 48.875 64.0625 45.09375 64.984375 \nQ 41.3125 65.921875 37.59375 65.921875 \nQ 27.828125 65.921875 22.671875 59.328125 \nQ 17.53125 52.734375 16.796875 39.40625 \nQ 19.671875 43.65625 24.015625 45.921875 \nQ 28.375 48.1875 33.59375 48.1875 \nQ 44.578125 48.1875 50.953125 41.515625 \nQ 57.328125 34.859375 57.328125 23.390625 \nQ 57.328125 12.15625 50.6875 5.359375 \nQ 44.046875 -1.421875 33.015625 -1.421875 \nQ 20.359375 -1.421875 13.671875 8.265625 \nQ 6.984375 17.96875 6.984375 36.375 \nQ 6.984375 53.65625 15.1875 63.9375 \nQ 23.390625 74.21875 37.203125 74.21875 \nQ 40.921875 74.21875 44.703125 73.484375 \nQ 48.484375 72.75 52.59375 71.296875 \nz\n\" id=\"DejaVuSans-54\"/>\n      </defs>\n      <g transform=\"translate(69.433725 239.238438)scale(0.1 -0.1)\">\n       <use xlink:href=\"#DejaVuSans-48\"/>\n       <use x=\"63.623047\" xlink:href=\"#DejaVuSans-46\"/>\n       <use x=\"95.410156\" xlink:href=\"#DejaVuSans-54\"/>\n      </g>\n     </g>\n    </g>\n    <g id=\"xtick_2\">\n     <g id=\"line2d_2\">\n      <g>\n       <use style=\"stroke:#000000;stroke-width:0.8;\" x=\"138.258014\" xlink:href=\"#mba19d14c3b\" y=\"224.64\"/>\n      </g>\n     </g>\n     <g id=\"text_2\">\n      <!-- 0.8 -->\n      <defs>\n       <path d=\"M 31.78125 34.625 \nQ 24.75 34.625 20.71875 30.859375 \nQ 16.703125 27.09375 16.703125 20.515625 \nQ 16.703125 13.921875 20.71875 10.15625 \nQ 24.75 6.390625 31.78125 6.390625 \nQ 38.8125 6.390625 42.859375 10.171875 \nQ 46.921875 13.96875 46.921875 20.515625 \nQ 46.921875 27.09375 42.890625 30.859375 \nQ 38.875 34.625 31.78125 34.625 \nz\nM 21.921875 38.8125 \nQ 15.578125 40.375 12.03125 44.71875 \nQ 8.5 49.078125 8.5 55.328125 \nQ 8.5 64.0625 14.71875 69.140625 \nQ 20.953125 74.21875 31.78125 74.21875 \nQ 42.671875 74.21875 48.875 69.140625 \nQ 55.078125 64.0625 55.078125 55.328125 \nQ 55.078125 49.078125 51.53125 44.71875 \nQ 48 40.375 41.703125 38.8125 \nQ 48.828125 37.15625 52.796875 32.3125 \nQ 56.78125 27.484375 56.78125 20.515625 \nQ 56.78125 9.90625 50.3125 4.234375 \nQ 43.84375 -1.421875 31.78125 -1.421875 \nQ 19.734375 -1.421875 13.25 4.234375 \nQ 6.78125 9.90625 6.78125 20.515625 \nQ 6.78125 27.484375 10.78125 32.3125 \nQ 14.796875 37.15625 21.921875 38.8125 \nz\nM 18.3125 54.390625 \nQ 18.3125 48.734375 21.84375 45.5625 \nQ 25.390625 42.390625 31.78125 42.390625 \nQ 38.140625 42.390625 41.71875 45.5625 \nQ 45.3125 48.734375 45.3125 54.390625 \nQ 45.3125 60.0625 41.71875 63.234375 \nQ 38.140625 66.40625 31.78125 66.40625 \nQ 25.390625 66.40625 21.84375 63.234375 \nQ 18.3125 60.0625 18.3125 54.390625 \nz\n\" id=\"DejaVuSans-56\"/>\n      </defs>\n      <g transform=\"translate(130.306452 239.238438)scale(0.1 -0.1)\">\n       <use xlink:href=\"#DejaVuSans-48\"/>\n       <use x=\"63.623047\" xlink:href=\"#DejaVuSans-46\"/>\n       <use x=\"95.410156\" xlink:href=\"#DejaVuSans-56\"/>\n      </g>\n     </g>\n    </g>\n    <g id=\"xtick_3\">\n     <g id=\"line2d_3\">\n      <g>\n       <use style=\"stroke:#000000;stroke-width:0.8;\" x=\"199.130742\" xlink:href=\"#mba19d14c3b\" y=\"224.64\"/>\n      </g>\n     </g>\n     <g id=\"text_3\">\n      <!-- 1.0 -->\n      <defs>\n       <path d=\"M 12.40625 8.296875 \nL 28.515625 8.296875 \nL 28.515625 63.921875 \nL 10.984375 60.40625 \nL 10.984375 69.390625 \nL 28.421875 72.90625 \nL 38.28125 72.90625 \nL 38.28125 8.296875 \nL 54.390625 8.296875 \nL 54.390625 0 \nL 12.40625 0 \nz\n\" id=\"DejaVuSans-49\"/>\n      </defs>\n      <g transform=\"translate(191.179179 239.238438)scale(0.1 -0.1)\">\n       <use xlink:href=\"#DejaVuSans-49\"/>\n       <use x=\"63.623047\" xlink:href=\"#DejaVuSans-46\"/>\n       <use x=\"95.410156\" xlink:href=\"#DejaVuSans-48\"/>\n      </g>\n     </g>\n    </g>\n    <g id=\"xtick_4\">\n     <g id=\"line2d_4\">\n      <g>\n       <use style=\"stroke:#000000;stroke-width:0.8;\" x=\"260.003469\" xlink:href=\"#mba19d14c3b\" y=\"224.64\"/>\n      </g>\n     </g>\n     <g id=\"text_4\">\n      <!-- 1.2 -->\n      <defs>\n       <path d=\"M 19.1875 8.296875 \nL 53.609375 8.296875 \nL 53.609375 0 \nL 7.328125 0 \nL 7.328125 8.296875 \nQ 12.9375 14.109375 22.625 23.890625 \nQ 32.328125 33.6875 34.8125 36.53125 \nQ 39.546875 41.84375 41.421875 45.53125 \nQ 43.3125 49.21875 43.3125 52.78125 \nQ 43.3125 58.59375 39.234375 62.25 \nQ 35.15625 65.921875 28.609375 65.921875 \nQ 23.96875 65.921875 18.8125 64.3125 \nQ 13.671875 62.703125 7.8125 59.421875 \nL 7.8125 69.390625 \nQ 13.765625 71.78125 18.9375 73 \nQ 24.125 74.21875 28.421875 74.21875 \nQ 39.75 74.21875 46.484375 68.546875 \nQ 53.21875 62.890625 53.21875 53.421875 \nQ 53.21875 48.921875 51.53125 44.890625 \nQ 49.859375 40.875 45.40625 35.40625 \nQ 44.1875 33.984375 37.640625 27.21875 \nQ 31.109375 20.453125 19.1875 8.296875 \nz\n\" id=\"DejaVuSans-50\"/>\n      </defs>\n      <g transform=\"translate(252.051906 239.238438)scale(0.1 -0.1)\">\n       <use xlink:href=\"#DejaVuSans-49\"/>\n       <use x=\"63.623047\" xlink:href=\"#DejaVuSans-46\"/>\n       <use x=\"95.410156\" xlink:href=\"#DejaVuSans-50\"/>\n      </g>\n     </g>\n    </g>\n    <g id=\"xtick_5\">\n     <g id=\"line2d_5\">\n      <g>\n       <use style=\"stroke:#000000;stroke-width:0.8;\" x=\"320.876196\" xlink:href=\"#mba19d14c3b\" y=\"224.64\"/>\n      </g>\n     </g>\n     <g id=\"text_5\">\n      <!-- 1.4 -->\n      <defs>\n       <path d=\"M 37.796875 64.3125 \nL 12.890625 25.390625 \nL 37.796875 25.390625 \nz\nM 35.203125 72.90625 \nL 47.609375 72.90625 \nL 47.609375 25.390625 \nL 58.015625 25.390625 \nL 58.015625 17.1875 \nL 47.609375 17.1875 \nL 47.609375 0 \nL 37.796875 0 \nL 37.796875 17.1875 \nL 4.890625 17.1875 \nL 4.890625 26.703125 \nz\n\" id=\"DejaVuSans-52\"/>\n      </defs>\n      <g transform=\"translate(312.924634 239.238438)scale(0.1 -0.1)\">\n       <use xlink:href=\"#DejaVuSans-49\"/>\n       <use x=\"63.623047\" xlink:href=\"#DejaVuSans-46\"/>\n       <use x=\"95.410156\" xlink:href=\"#DejaVuSans-52\"/>\n      </g>\n     </g>\n    </g>\n   </g>\n   <g id=\"matplotlib.axis_2\">\n    <g id=\"ytick_1\">\n     <g id=\"line2d_6\">\n      <defs>\n       <path d=\"M 0 0 \nL -3.5 0 \n\" id=\"m5ea370f4b9\" style=\"stroke:#000000;stroke-width:0.8;\"/>\n      </defs>\n      <g>\n       <use style=\"stroke:#000000;stroke-width:0.8;\" x=\"26.925\" xlink:href=\"#m5ea370f4b9\" y=\"224.64\"/>\n      </g>\n     </g>\n     <g id=\"text_6\">\n      <!-- 0 -->\n      <g transform=\"translate(13.5625 228.439219)scale(0.1 -0.1)\">\n       <use xlink:href=\"#DejaVuSans-48\"/>\n      </g>\n     </g>\n    </g>\n    <g id=\"ytick_2\">\n     <g id=\"line2d_7\">\n      <g>\n       <use style=\"stroke:#000000;stroke-width:0.8;\" x=\"26.925\" xlink:href=\"#m5ea370f4b9\" y=\"183.222857\"/>\n      </g>\n     </g>\n     <g id=\"text_7\">\n      <!-- 10 -->\n      <g transform=\"translate(7.2 187.022076)scale(0.1 -0.1)\">\n       <use xlink:href=\"#DejaVuSans-49\"/>\n       <use x=\"63.623047\" xlink:href=\"#DejaVuSans-48\"/>\n      </g>\n     </g>\n    </g>\n    <g id=\"ytick_3\">\n     <g id=\"line2d_8\">\n      <g>\n       <use style=\"stroke:#000000;stroke-width:0.8;\" x=\"26.925\" xlink:href=\"#m5ea370f4b9\" y=\"141.805714\"/>\n      </g>\n     </g>\n     <g id=\"text_8\">\n      <!-- 20 -->\n      <g transform=\"translate(7.2 145.604933)scale(0.1 -0.1)\">\n       <use xlink:href=\"#DejaVuSans-50\"/>\n       <use x=\"63.623047\" xlink:href=\"#DejaVuSans-48\"/>\n      </g>\n     </g>\n    </g>\n    <g id=\"ytick_4\">\n     <g id=\"line2d_9\">\n      <g>\n       <use style=\"stroke:#000000;stroke-width:0.8;\" x=\"26.925\" xlink:href=\"#m5ea370f4b9\" y=\"100.388571\"/>\n      </g>\n     </g>\n     <g id=\"text_9\">\n      <!-- 30 -->\n      <defs>\n       <path d=\"M 40.578125 39.3125 \nQ 47.65625 37.796875 51.625 33 \nQ 55.609375 28.21875 55.609375 21.1875 \nQ 55.609375 10.40625 48.1875 4.484375 \nQ 40.765625 -1.421875 27.09375 -1.421875 \nQ 22.515625 -1.421875 17.65625 -0.515625 \nQ 12.796875 0.390625 7.625 2.203125 \nL 7.625 11.71875 \nQ 11.71875 9.328125 16.59375 8.109375 \nQ 21.484375 6.890625 26.8125 6.890625 \nQ 36.078125 6.890625 40.9375 10.546875 \nQ 45.796875 14.203125 45.796875 21.1875 \nQ 45.796875 27.640625 41.28125 31.265625 \nQ 36.765625 34.90625 28.71875 34.90625 \nL 20.21875 34.90625 \nL 20.21875 43.015625 \nL 29.109375 43.015625 \nQ 36.375 43.015625 40.234375 45.921875 \nQ 44.09375 48.828125 44.09375 54.296875 \nQ 44.09375 59.90625 40.109375 62.90625 \nQ 36.140625 65.921875 28.71875 65.921875 \nQ 24.65625 65.921875 20.015625 65.03125 \nQ 15.375 64.15625 9.8125 62.3125 \nL 9.8125 71.09375 \nQ 15.4375 72.65625 20.34375 73.4375 \nQ 25.25 74.21875 29.59375 74.21875 \nQ 40.828125 74.21875 47.359375 69.109375 \nQ 53.90625 64.015625 53.90625 55.328125 \nQ 53.90625 49.265625 50.4375 45.09375 \nQ 46.96875 40.921875 40.578125 39.3125 \nz\n\" id=\"DejaVuSans-51\"/>\n      </defs>\n      <g transform=\"translate(7.2 104.18779)scale(0.1 -0.1)\">\n       <use xlink:href=\"#DejaVuSans-51\"/>\n       <use x=\"63.623047\" xlink:href=\"#DejaVuSans-48\"/>\n      </g>\n     </g>\n    </g>\n    <g id=\"ytick_5\">\n     <g id=\"line2d_10\">\n      <g>\n       <use style=\"stroke:#000000;stroke-width:0.8;\" x=\"26.925\" xlink:href=\"#m5ea370f4b9\" y=\"58.971429\"/>\n      </g>\n     </g>\n     <g id=\"text_10\">\n      <!-- 40 -->\n      <g transform=\"translate(7.2 62.770647)scale(0.1 -0.1)\">\n       <use xlink:href=\"#DejaVuSans-52\"/>\n       <use x=\"63.623047\" xlink:href=\"#DejaVuSans-48\"/>\n      </g>\n     </g>\n    </g>\n    <g id=\"ytick_6\">\n     <g id=\"line2d_11\">\n      <g>\n       <use style=\"stroke:#000000;stroke-width:0.8;\" x=\"26.925\" xlink:href=\"#m5ea370f4b9\" y=\"17.554286\"/>\n      </g>\n     </g>\n     <g id=\"text_11\">\n      <!-- 50 -->\n      <defs>\n       <path d=\"M 10.796875 72.90625 \nL 49.515625 72.90625 \nL 49.515625 64.59375 \nL 19.828125 64.59375 \nL 19.828125 46.734375 \nQ 21.96875 47.46875 24.109375 47.828125 \nQ 26.265625 48.1875 28.421875 48.1875 \nQ 40.625 48.1875 47.75 41.5 \nQ 54.890625 34.8125 54.890625 23.390625 \nQ 54.890625 11.625 47.5625 5.09375 \nQ 40.234375 -1.421875 26.90625 -1.421875 \nQ 22.3125 -1.421875 17.546875 -0.640625 \nQ 12.796875 0.140625 7.71875 1.703125 \nL 7.71875 11.625 \nQ 12.109375 9.234375 16.796875 8.0625 \nQ 21.484375 6.890625 26.703125 6.890625 \nQ 35.15625 6.890625 40.078125 11.328125 \nQ 45.015625 15.765625 45.015625 23.390625 \nQ 45.015625 31 40.078125 35.4375 \nQ 35.15625 39.890625 26.703125 39.890625 \nQ 22.75 39.890625 18.8125 39.015625 \nQ 14.890625 38.140625 10.796875 36.28125 \nz\n\" id=\"DejaVuSans-53\"/>\n      </defs>\n      <g transform=\"translate(7.2 21.353504)scale(0.1 -0.1)\">\n       <use xlink:href=\"#DejaVuSans-53\"/>\n       <use x=\"63.623047\" xlink:href=\"#DejaVuSans-48\"/>\n      </g>\n     </g>\n    </g>\n   </g>\n   <g id=\"patch_13\">\n    <path d=\"M 26.925 224.64 \nL 26.925 7.2 \n\" style=\"fill:none;stroke:#000000;stroke-linecap:square;stroke-linejoin:miter;stroke-width:0.8;\"/>\n   </g>\n   <g id=\"patch_14\">\n    <path d=\"M 361.725 224.64 \nL 361.725 7.2 \n\" style=\"fill:none;stroke:#000000;stroke-linecap:square;stroke-linejoin:miter;stroke-width:0.8;\"/>\n   </g>\n   <g id=\"patch_15\">\n    <path d=\"M 26.925 224.64 \nL 361.725 224.64 \n\" style=\"fill:none;stroke:#000000;stroke-linecap:square;stroke-linejoin:miter;stroke-width:0.8;\"/>\n   </g>\n   <g id=\"patch_16\">\n    <path d=\"M 26.925 7.2 \nL 361.725 7.2 \n\" style=\"fill:none;stroke:#000000;stroke-linecap:square;stroke-linejoin:miter;stroke-width:0.8;\"/>\n   </g>\n  </g>\n </g>\n <defs>\n  <clipPath id=\"pa6ee4fd557\">\n   <rect height=\"217.44\" width=\"334.8\" x=\"26.925\" y=\"7.2\"/>\n  </clipPath>\n </defs>\n</svg>\n",
      "image/png": "[encoded data removed]"
     },
     "metadata": {
      "needs_background": "light"
     }
    }
   ],
   "source": [
    "plt.hist(accuracy_array)\n",
    "plt.show()"
   ]
  },
  {
   "cell_type": "code",
   "execution_count": null,
   "metadata": {},
   "outputs": [],
   "source": []
  }
 ]
}